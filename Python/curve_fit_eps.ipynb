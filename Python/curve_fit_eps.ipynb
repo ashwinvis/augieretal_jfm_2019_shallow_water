{
 "cells": [
  {
   "cell_type": "markdown",
   "metadata": {},
   "source": [
    "# Curve-fit to estimate final dissipation"
   ]
  },
  {
   "cell_type": "code",
   "execution_count": 1,
   "metadata": {},
   "outputs": [],
   "source": [
    "%run base.py\n",
    "%run paths.py"
   ]
  },
  {
   "cell_type": "code",
   "execution_count": 2,
   "metadata": {},
   "outputs": [],
   "source": [
    "from base import *\n",
    "from paths import *"
   ]
  },
  {
   "cell_type": "code",
   "execution_count": 3,
   "metadata": {},
   "outputs": [
    {
     "data": {
      "application/vnd.jupyter.widget-view+json": {
       "model_id": "",
       "version_major": 2,
       "version_minor": 0
      },
      "text/plain": [
       "FigureCanvasNbAgg()"
      ]
     },
     "metadata": {},
     "output_type": "display_data"
    }
   ],
   "source": [
    "%matplotlib ipympl\n",
    "import matplotlib.pyplot as plt\n",
    "\n",
    "def get_teps(short_name):\n",
    "    path = paths_sim[short_name]\n",
    "    d = SpatialMeansSW1L._load(path)\n",
    "    t = d['t']\n",
    "    eps = d['epsK'] + d ['epsA']\n",
    "    \n",
    "    idx = _index_where(eps, eps.max())\n",
    "    \n",
    "    return t, eps, idx\n",
    "\n",
    "def plot_eps(short_name):\n",
    "    t, eps,idx = get_teps(short_name)\n",
    "    plt.plot(t, eps, label=short_name)\n",
    "    plt.text(t[idx], eps[idx], short_name)\n",
    "    # plt.legend()\n",
    "\n",
    "## Some extreme cases\n",
    "#plot_eps('noise_c400nh7680Buinf')\n",
    "#plot_eps('vortex_grid_c100nh1920Bu2.0efr1.00e+00')\n",
    "#plot_eps('noise_c20nh7680Buinf')\n",
    "#plot_eps('vortex_grid_c100nh1920Bu1.0efr1.00e+00')\n",
    "#plot_eps('noise_c40nh7680Buinf')\n",
    "#plot_eps('vortex_grid_c100nh1920Buinfefr1.00e+02')\n",
    "\n",
    "## Lognorm like\n",
    "# plot_eps('vortex_grid_c20nh1920Buinfefr1.00e+01')\n",
    "# plot_eps('vortex_grid_c100nh1920Buinfefr1.00e+02')\n",
    "# plot_eps('vortex_grid_c100nh1920Bu4.0efr1.00e+02')\n",
    "# plot_eps('vortex_grid_c400nh1920Buinfefr1.00e+02')\n",
    "\n",
    "#for short in df_vort['short name']:\n",
    "#    plot_eps(short)\n",
    "\n",
    "plot_eps('noise_c400nh3840Buinf')\n",
    "# plot_eps('noise_c100nh3840Buinf')\n",
    "# plot_eps('vortex_grid_c100nh1920Bu2.0efr1.00e+00')"
   ]
  },
  {
   "cell_type": "code",
   "execution_count": 4,
   "metadata": {},
   "outputs": [],
   "source": [
    "%matplotlib ipympl\n",
    "from scipy.signal import medfilt\n",
    "from scipy.special import erf\n",
    "\n",
    "t, eps, idx = get_teps(\"vortex_grid_c400nh1920Buinfefr1.00e+02\")\n",
    "# plt.figure()\n",
    "# plt.plot(t, np.tanh(t/10))\n",
    "# plt.plot(t, np.tanh((t/10)**4))\n",
    "# plt.plot(t, erf((t/10)**4))\n",
    "# plt.show()"
   ]
  },
  {
   "cell_type": "code",
   "execution_count": 5,
   "metadata": {},
   "outputs": [
    {
     "data": {
      "application/vnd.jupyter.widget-view+json": {
       "model_id": "",
       "version_major": 2,
       "version_minor": 0
      },
      "text/plain": [
       "FigureCanvasNbAgg()"
      ]
     },
     "metadata": {},
     "output_type": "display_data"
    },
    {
     "data": {
      "text/plain": [
       "[<matplotlib.lines.Line2D at 0x7eff87562b38>]"
      ]
     },
     "execution_count": 5,
     "metadata": {},
     "output_type": "execute_result"
    }
   ],
   "source": [
    "eps_filt = medfilt(eps, 7)\n",
    "plt.figure()\n",
    "plt.plot(t, eps)\n",
    "plt.plot(t, eps_filt)"
   ]
  },
  {
   "cell_type": "markdown",
   "metadata": {},
   "source": [
    "# Curve fit"
   ]
  },
  {
   "cell_type": "code",
   "execution_count": 6,
   "metadata": {},
   "outputs": [
    {
     "name": "stderr",
     "output_type": "stream",
     "text": [
      "/scratch/avmo/opt/fluidmeta-MmQYGCPX/lib/python3.5/site-packages/scipy/optimize/minpack.py:794: OptimizeWarning: Covariance of the parameters could not be estimated\n",
      "  category=OptimizeWarning)\n"
     ]
    },
    {
     "data": {
      "application/vnd.jupyter.widget-view+json": {
       "model_id": "",
       "version_major": 2,
       "version_minor": 0
      },
      "text/plain": [
       "FigureCanvasNbAgg()"
      ]
     },
     "metadata": {},
     "output_type": "display_data"
    },
    {
     "data": {
      "text/plain": [
       "<matplotlib.legend.Legend at 0x7eff8755a828>"
      ]
     },
     "execution_count": 6,
     "metadata": {},
     "output_type": "execute_result"
    }
   ],
   "source": [
    "%matplotlib ipympl\n",
    "from scipy.optimize import curve_fit\n",
    "from scipy.signal import lti, step2\n",
    "from scipy import stats\n",
    "from matplotlib.pyplot import *\n",
    "\n",
    "option = 2\n",
    "\n",
    "# short = 'vortex_grid_c100nh1920Buinfefr1.00e-01'\n",
    "# short = 'vortex_grid_c100nh1920Buinfefr1.00e+02'\n",
    "# short = 'vortex_grid_c20nh1920Buinfefr1.00e+01'\n",
    "# short = 'vortex_grid_c400nh1920Buinfefr1.00e+02'\n",
    "# short = 'noise_c20nh7680Buinf'\n",
    "# short = 'vortex_grid_c20nh960Buinfefr1.00e+00'\n",
    "# short = 'noise_c20nh3840Buinf'\n",
    "# short = 'noise_c400nh3840Buinf'\n",
    "short = 'vortex_grid_c20nh1920Bu4.0efr1.00e-02'\n",
    "short = 'vortex_grid_c20nh1920Bu20.0efr1.00e+00'\n",
    "short = 'noise_c400nh1920Buinf'\n",
    "# short = 'vortex_grid_c100nh1920Bu4.0efr1.00e+02'\n",
    "# short = 'vortex_grid_c100nh1920Bu2.0efr1.00e+00'\n",
    "\n",
    "t, eps,_ = get_teps(short)\n",
    "\n",
    "if option == 1:\n",
    "    def f(x, amptan, ttan):\n",
    "        return amptan * pl.tanh(2 * (x / ttan)**4)\n",
    "\n",
    "    guesses = [pl.median(eps), t[eps==eps.max()]]\n",
    "else:\n",
    "    # def f(x, amptan, ttan, amplog, tlog, sigma):\n",
    "    def f(x, amptan, ttan, amplog, sigma):\n",
    "        return  (\n",
    "            amptan * np.tanh(2 * (x/ttan)**4) +\n",
    "            amplog * stats.lognorm.pdf(x, scale=np.exp(ttan), s=sigma)\n",
    "        )\n",
    "\n",
    "\n",
    "    guesses = {\n",
    "        'amptan': np.median(eps),\n",
    "        'ttan': t[eps==eps.max()],\n",
    "        'amplog': eps.max(),\n",
    "        # 'tlog': t[eps==eps.max()],\n",
    "        'sigma': eps.std()\n",
    "    }\n",
    "    guesses = np.array(list(guesses.values()), dtype=float)\n",
    "    bounds = (0, guesses * 1.5)\n",
    "\n",
    "# popt, pcov = curve_fit(f, t, eps)\n",
    "# popt, pcov = curve_fit(f, t, eps, sigma=1./t)\n",
    "popt, pcov = curve_fit(f, t, eps, guesses)\n",
    "\n",
    "# popt, pcov = curve_fit(f, t, eps, guesses, bounds=bounds, method=\"trf\")\n",
    "\n",
    "plot(t, eps, label='original')\n",
    "plot(t, f(t, *popt), label='curve fit')\n",
    "plot(t, np.median(eps) * np.ones_like(eps), 'g', label='median_all')\n",
    "\n",
    "plot(t, np.median(eps[t>40]) * np.ones_like(eps), 'r:', label='median')\n",
    "plot(t, np.mean(eps[t>40]) * np.ones_like(eps), 'r--', label='mean')\n",
    "\n",
    "# df = df_vort if  'vortex' in short else df_noise\n",
    "# eps_chosen = get_row(df, 'short name', short)['$\\epsilon$'].iloc[0]\n",
    "\n",
    "# plot(t, eps_chosen * np.ones_like(eps), 'k', label='chosen')\n",
    "# plot(t, popt[2] * stats.lognorm.pdf(t, *popt[-2:]), label='lognorm')\n",
    "legend()"
   ]
  },
  {
   "cell_type": "code",
   "execution_count": 7,
   "metadata": {},
   "outputs": [],
   "source": [
    "eps_fit = f(t, *popt)\n",
    "dt = t[1]-t[0]\n",
    "# dt = np.median(np.gradient(t))\n",
    "deps_fit = np.gradient(eps_fit, dt)\n",
    "ddeps_fit = np.gradient(deps_fit, dt)\n",
    "curv = ddeps_fit / (1 + deps_fit) ** 1.5\n",
    "# curv = curv*eps.max()/curv.max()"
   ]
  },
  {
   "cell_type": "code",
   "execution_count": 8,
   "metadata": {},
   "outputs": [
    {
     "data": {
      "application/vnd.jupyter.widget-view+json": {
       "model_id": "",
       "version_major": 2,
       "version_minor": 0
      },
      "text/plain": [
       "FigureCanvasNbAgg()"
      ]
     },
     "metadata": {},
     "output_type": "display_data"
    },
    {
     "data": {
      "text/plain": [
       "[<matplotlib.lines.Line2D at 0x7eff875939e8>]"
      ]
     },
     "execution_count": 8,
     "metadata": {},
     "output_type": "execute_result"
    }
   ],
   "source": [
    "figure()\n",
    "plot(t, eps_fit)\n",
    "plot(t, curv)\n",
    "# plot(t, deps_fit)"
   ]
  },
  {
   "cell_type": "markdown",
   "metadata": {},
   "source": [
    "### Kneedle algorithm"
   ]
  },
  {
   "cell_type": "code",
   "execution_count": 9,
   "metadata": {},
   "outputs": [
    {
     "data": {
      "text/plain": [
       "21.30833"
      ]
     },
     "execution_count": 9,
     "metadata": {},
     "output_type": "execute_result"
    }
   ],
   "source": [
    "def locate_knee(time, eps_fit, eps_stat):\n",
    "    from kneed import KneeLocator\n",
    "\n",
    "    while not np.array_equal(time, np.sort(time)):\n",
    "        idx_del = np.where(np.diff(time) < 0)[0] + 1\n",
    "        time = np.delete(time, idx_del)\n",
    "        eps_fit = np.delete(eps_fit, idx_del)\n",
    "    \n",
    "    if eps_fit.max() > 2 * eps_stat:\n",
    "        # log-norm + tanh\n",
    "        knee = KneeLocator(time, eps_fit, direction='decreasing')\n",
    "        idx = knee.knee_x\n",
    "    else:\n",
    "        knee = KneeLocator(time, eps_fit)\n",
    "        idx = knee.knee_x\n",
    "\n",
    "    if idx is None:\n",
    "        # non-stationary case\n",
    "        idx = -1\n",
    "\n",
    "    time_stat = time[idx]\n",
    "    return time_stat\n",
    "\n",
    "locate_knee(t, eps_fit, eps_fit[-1])"
   ]
  },
  {
   "cell_type": "code",
   "execution_count": 10,
   "metadata": {},
   "outputs": [
    {
     "data": {
      "application/vnd.jupyter.widget-view+json": {
       "model_id": "",
       "version_major": 2,
       "version_minor": 0
      },
      "text/plain": [
       "FigureCanvasNbAgg()"
      ]
     },
     "metadata": {},
     "output_type": "display_data"
    }
   ],
   "source": [
    "from kneed import KneeLocator\n",
    "\n",
    "\n",
    "while not np.array_equal(t, np.sort(t)):\n",
    "    idx_del = np.where(np.diff(t) < 0)[0] + 1\n",
    "    t = np.delete(t, idx_del)\n",
    "    eps_fit = np.delete(eps_fit, idx_del)\n",
    "    print(idx_del)\n",
    "    \n",
    "\n",
    "knee = KneeLocator(t, eps_fit)\n",
    "knee.plot_knee()"
   ]
  },
  {
   "cell_type": "code",
   "execution_count": 11,
   "metadata": {},
   "outputs": [
    {
     "data": {
      "text/plain": [
       "(21.30833, 'increasing')"
      ]
     },
     "execution_count": 11,
     "metadata": {},
     "output_type": "execute_result"
    }
   ],
   "source": [
    "t[knee.knee_x], knee.direction"
   ]
  },
  {
   "cell_type": "code",
   "execution_count": 12,
   "metadata": {},
   "outputs": [
    {
     "name": "stdout",
     "output_type": "stream",
     "text": [
      "Using matplotlib backend: module://ipympl.backend_nbagg\n"
     ]
    },
    {
     "data": {
      "text/plain": [
       "array([], dtype=int64)"
      ]
     },
     "execution_count": 12,
     "metadata": {},
     "output_type": "execute_result"
    }
   ],
   "source": [
    "%matplotlib\n",
    "np.where(np.gradient(t) <= 0)[0]\n",
    "# plt.plot(t, np.gradient(t))"
   ]
  },
  {
   "cell_type": "code",
   "execution_count": 13,
   "metadata": {},
   "outputs": [
    {
     "name": "stdout",
     "output_type": "stream",
     "text": [
      "[]\n",
      "[]\n"
     ]
    }
   ],
   "source": [
    "idx_neq = np.where(t != np.sort(t))[0]\n",
    "print(idx_neq)\n",
    "print(t[idx_neq])"
   ]
  },
  {
   "cell_type": "code",
   "execution_count": 14,
   "metadata": {},
   "outputs": [
    {
     "data": {
      "text/plain": [
       "19.70729"
      ]
     },
     "execution_count": 14,
     "metadata": {},
     "output_type": "execute_result"
    }
   ],
   "source": [
    "idx = _index_where(eps_fit, np.median(eps)); t[idx]"
   ]
  },
  {
   "cell_type": "code",
   "execution_count": 15,
   "metadata": {},
   "outputs": [
    {
     "data": {
      "text/plain": [
       "0.2001302"
      ]
     },
     "execution_count": 15,
     "metadata": {},
     "output_type": "execute_result"
    }
   ],
   "source": [
    "idx = _index_where(abs(curv), 1e-5); t[idx]"
   ]
  },
  {
   "cell_type": "code",
   "execution_count": 16,
   "metadata": {},
   "outputs": [
    {
     "data": {
      "text/plain": [
       "33.81647"
      ]
     },
     "execution_count": 16,
     "metadata": {},
     "output_type": "execute_result"
    }
   ],
   "source": [
    "idx = np.argmin(abs(curv)); t[idx]"
   ]
  },
  {
   "cell_type": "markdown",
   "metadata": {},
   "source": [
    "###  Histogram of curvatures"
   ]
  },
  {
   "cell_type": "code",
   "execution_count": 17,
   "metadata": {},
   "outputs": [
    {
     "data": {
      "text/plain": [
       "5.9983221272149785e-05"
      ]
     },
     "execution_count": 17,
     "metadata": {},
     "output_type": "execute_result"
    }
   ],
   "source": [
    "curv.std()*0.01"
   ]
  },
  {
   "cell_type": "code",
   "execution_count": 18,
   "metadata": {},
   "outputs": [
    {
     "data": {
      "application/vnd.jupyter.widget-view+json": {
       "model_id": "",
       "version_major": 2,
       "version_minor": 0
      },
      "text/plain": [
       "FigureCanvasNbAgg()"
      ]
     },
     "metadata": {},
     "output_type": "display_data"
    },
    {
     "name": "stderr",
     "output_type": "stream",
     "text": [
      "/scratch/avmo/opt/fluidmeta-MmQYGCPX/lib/python3.5/site-packages/matplotlib-2.2.2-py3.5-linux-x86_64.egg/matplotlib/axes/_axes.py:6462: UserWarning: The 'normed' kwarg is deprecated, and has been replaced by the 'density' kwarg.\n",
      "  warnings.warn(\"The 'normed' kwarg is deprecated, and has been \"\n"
     ]
    }
   ],
   "source": [
    "%matplotlib ipympl\n",
    "n, bins, patches = plt.hist(curv, 10, normed=1, facecolor='green', alpha=0.75)"
   ]
  },
  {
   "cell_type": "code",
   "execution_count": 19,
   "metadata": {},
   "outputs": [
    {
     "ename": "TypeError",
     "evalue": "_index_flat() takes from 1 to 2 positional arguments but 3 were given",
     "output_type": "error",
     "traceback": [
      "\u001b[0;31m---------------------------------------------------------------------------\u001b[0m",
      "\u001b[0;31mTypeError\u001b[0m                                 Traceback (most recent call last)",
      "\u001b[0;32m<ipython-input-19-5e2065768f34>\u001b[0m in \u001b[0;36m<module>\u001b[0;34m()\u001b[0m\n\u001b[0;32m----> 1\u001b[0;31m \u001b[0midx\u001b[0m \u001b[0;34m=\u001b[0m \u001b[0m_index_flat\u001b[0m\u001b[0;34m(\u001b[0m\u001b[0meps_fit\u001b[0m\u001b[0;34m,\u001b[0m \u001b[0mt\u001b[0m\u001b[0;34m,\u001b[0m \u001b[0;36m1e-4\u001b[0m\u001b[0;34m)\u001b[0m\u001b[0;34m;\u001b[0m \u001b[0mt\u001b[0m\u001b[0;34m[\u001b[0m\u001b[0midx\u001b[0m\u001b[0;34m]\u001b[0m\u001b[0;34m\u001b[0m\u001b[0m\n\u001b[0m",
      "\u001b[0;31mTypeError\u001b[0m: _index_flat() takes from 1 to 2 positional arguments but 3 were given"
     ]
    }
   ],
   "source": [
    "idx = _index_flat(eps_fit, t, 1e-4); t[idx]"
   ]
  },
  {
   "cell_type": "code",
   "execution_count": 20,
   "metadata": {},
   "outputs": [
    {
     "data": {
      "text/plain": [
       "array([ 1.15158681, 19.09638869,  0.33740296,  1.4558777 ])"
      ]
     },
     "execution_count": 20,
     "metadata": {},
     "output_type": "execute_result"
    }
   ],
   "source": [
    "popt"
   ]
  },
  {
   "cell_type": "markdown",
   "metadata": {},
   "source": [
    "# Cumulative average"
   ]
  },
  {
   "cell_type": "code",
   "execution_count": 21,
   "metadata": {},
   "outputs": [],
   "source": [
    "from fluidsim.base.output.spect_energy_budget import cumsum_inv\n",
    "import numpy as np\n",
    "\n",
    "\n",
    "def cummean(x):\n",
    "    \"\"\"Cumulative average from the reversed array.\"\"\"\n",
    "    sum_fwd = x.cumsum()\n",
    "    idx_fwd = np.arange(1, x.shape[0]+1)\n",
    "    return sum_fwd / idx_fwd\n",
    "\n",
    "\n",
    "def cummean_inv(x):\n",
    "    \"\"\"Cumulative average from the reversed array.\"\"\"\n",
    "    sum_inv = cumsum_inv(x)\n",
    "    idx_inv = np.arange(x.shape[0], 0, -1)\n",
    "    return sum_inv / idx_inv"
   ]
  },
  {
   "cell_type": "code",
   "execution_count": 22,
   "metadata": {},
   "outputs": [
    {
     "data": {
      "application/vnd.jupyter.widget-view+json": {
       "model_id": "",
       "version_major": 2,
       "version_minor": 0
      },
      "text/plain": [
       "FigureCanvasNbAgg()"
      ]
     },
     "metadata": {},
     "output_type": "display_data"
    },
    {
     "data": {
      "text/plain": [
       "[<matplotlib.lines.Line2D at 0x7eff87394d30>]"
      ]
     },
     "execution_count": 22,
     "metadata": {},
     "output_type": "execute_result"
    }
   ],
   "source": [
    "eps_mean = cummean(eps)\n",
    "eps_mean_inv = cummean_inv(eps)\n",
    "\n",
    "plt.figure()\n",
    "plt.plot(t, eps)\n",
    "plt.plot(t, eps_mean)\n",
    "plt.plot(t, eps_mean_inv)"
   ]
  },
  {
   "cell_type": "markdown",
   "metadata": {},
   "source": [
    "# Moving average (from SciPy cookbook)"
   ]
  },
  {
   "cell_type": "code",
   "execution_count": 23,
   "metadata": {},
   "outputs": [],
   "source": [
    "import numpy\n",
    "\n",
    "def smooth(x,window_len=11,window='hanning'):\n",
    "    \"\"\"smooth the data using a window with requested size.\n",
    "    \n",
    "    This method is based on the convolution of a scaled window with the signal.\n",
    "    The signal is prepared by introducing reflected copies of the signal \n",
    "    (with the window size) in both ends so that transient parts are minimized\n",
    "    in the begining and end part of the output signal.\n",
    "    \n",
    "    input:\n",
    "        x: the input signal \n",
    "        window_len: the dimension of the smoothing window; should be an odd integer\n",
    "        window: the type of window from 'flat', 'hanning', 'hamming', 'bartlett', 'blackman'\n",
    "            flat window will produce a moving average smoothing.\n",
    "\n",
    "    output:\n",
    "        the smoothed signal\n",
    "        \n",
    "    example:\n",
    "\n",
    "    t=linspace(-2,2,0.1)\n",
    "    x=sin(t)+randn(len(t))*0.1\n",
    "    y=smooth(x)\n",
    "    \n",
    "    see also: \n",
    "    \n",
    "    numpy.hanning, numpy.hamming, numpy.bartlett, numpy.blackman, numpy.convolve\n",
    "    scipy.signal.lfilter\n",
    " \n",
    "    TODO: the window parameter could be the window itself if an array instead of a string\n",
    "    NOTE: length(output) != length(input), to correct this: return y[(window_len/2-1):-(window_len/2)] instead of just y.\n",
    "    \"\"\"\n",
    "\n",
    "    if x.ndim != 1:\n",
    "        raise ValueError(\"smooth only accepts 1 dimension arrays.\")\n",
    "\n",
    "    if x.size < window_len:\n",
    "        raise ValueError(\"Input vector needs to be bigger than window size.\")\n",
    "\n",
    "\n",
    "    if window_len<3:\n",
    "        return x\n",
    "\n",
    "\n",
    "    if not window in ['flat', 'hanning', 'hamming', 'bartlett', 'blackman']:\n",
    "        raise ValueError(\"Window is on of 'flat', 'hanning', 'hamming', 'bartlett', 'blackman'\")\n",
    "\n",
    "\n",
    "    s=numpy.r_[x[window_len-1:0:-1],x,x[-2:-window_len-1:-1]]\n",
    "    #print(len(s))\n",
    "    if window == 'flat': #moving average\n",
    "        w=numpy.ones(window_len,'d')\n",
    "    else:\n",
    "        w=eval('numpy.'+window+'(window_len)')\n",
    "\n",
    "    y=numpy.convolve(w/w.sum(),s,mode='valid')\n",
    "    return y"
   ]
  },
  {
   "cell_type": "code",
   "execution_count": 24,
   "metadata": {},
   "outputs": [
    {
     "data": {
      "text/plain": [
       "LinregressResult(slope=0.06070906172579099, intercept=-0.21404717186330946, rvalue=0.953253264131833, pvalue=9.784940094962523e-53, stderr=0.0019439590264217056)"
      ]
     },
     "execution_count": 24,
     "metadata": {},
     "output_type": "execute_result"
    }
   ],
   "source": [
    "from scipy.stats import linregress\n",
    "linregress(t[100:200], eps[100:200])"
   ]
  },
  {
   "cell_type": "code",
   "execution_count": 29,
   "metadata": {},
   "outputs": [
    {
     "data": {
      "text/plain": [
       "(array([1.17130666]), array([[8.75858778e-06]]))"
      ]
     },
     "execution_count": 29,
     "metadata": {},
     "output_type": "execute_result"
    }
   ],
   "source": [
    "def f(x, a):\n",
    "    return a * np.ones_like(x)\n",
    "\n",
    "curve_fit(f, t[300:], eps[300:])"
   ]
  },
  {
   "cell_type": "code",
   "execution_count": 30,
   "metadata": {},
   "outputs": [
    {
     "data": {
      "text/plain": [
       "1.1713066614015573"
      ]
     },
     "execution_count": 30,
     "metadata": {},
     "output_type": "execute_result"
    }
   ],
   "source": [
    "eps[300:].mean()"
   ]
  },
  {
   "cell_type": "code",
   "execution_count": 31,
   "metadata": {},
   "outputs": [
    {
     "data": {
      "application/vnd.jupyter.widget-view+json": {
       "model_id": "",
       "version_major": 2,
       "version_minor": 0
      },
      "text/plain": [
       "FigureCanvasNbAgg()"
      ]
     },
     "metadata": {},
     "output_type": "display_data"
    },
    {
     "data": {
      "text/plain": [
       "[<matplotlib.lines.Line2D at 0x7eff872f1048>]"
      ]
     },
     "execution_count": 31,
     "metadata": {},
     "output_type": "execute_result"
    }
   ],
   "source": [
    "plt.figure()\n",
    "plt.plot(eps)"
   ]
  },
  {
   "cell_type": "code",
   "execution_count": 32,
   "metadata": {},
   "outputs": [
    {
     "data": {
      "application/vnd.jupyter.widget-view+json": {
       "model_id": "",
       "version_major": 2,
       "version_minor": 0
      },
      "text/plain": [
       "FigureCanvasNbAgg()"
      ]
     },
     "metadata": {},
     "output_type": "display_data"
    },
    {
     "data": {
      "text/plain": [
       "<matplotlib.legend.Legend at 0x7eff872b4978>"
      ]
     },
     "execution_count": 32,
     "metadata": {},
     "output_type": "execute_result"
    }
   ],
   "source": [
    "eps_filt = medfilt(eps, 51)\n",
    "eps_mavg = smooth(eps, 21)[20:]\n",
    "plt.figure()\n",
    "plt.plot(t, eps)\n",
    "plt.plot(t, eps_filt, label=\"median filtered\")\n",
    "plt.plot(t, eps_mavg, label=\"averaged\")\n",
    "plt.legend()"
   ]
  },
  {
   "cell_type": "markdown",
   "metadata": {},
   "source": [
    "# Using FFT"
   ]
  },
  {
   "cell_type": "code",
   "execution_count": 33,
   "metadata": {},
   "outputs": [
    {
     "data": {
      "application/vnd.jupyter.widget-view+json": {
       "model_id": "",
       "version_major": 2,
       "version_minor": 0
      },
      "text/plain": [
       "FigureCanvasNbAgg()"
      ]
     },
     "metadata": {},
     "output_type": "display_data"
    },
    {
     "data": {
      "text/plain": [
       "Text(0,0.5,'|Y(freq)|')"
      ]
     },
     "execution_count": 33,
     "metadata": {},
     "output_type": "execute_result"
    }
   ],
   "source": [
    "Ts = t[1] - t[0];  # sampling interval\n",
    "Fs = 1.0/Ts; # sampling rate\n",
    "tvec = t # time vector\n",
    "\n",
    "y = eps\n",
    "\n",
    "n = len(y) # length of the signal\n",
    "k = np.arange(n)\n",
    "T = n/Fs\n",
    "frq = k/T # two sides frequency range\n",
    "frq = frq[0:n//2] # one side frequency range\n",
    "\n",
    "Y = np.fft.fft(y)/n # fft computing and normalization\n",
    "Y = Y[0:n//2]\n",
    "plt.clf()\n",
    "fig, ax = plt.subplots(2, 1)\n",
    "ax[0].plot(tvec,y)\n",
    "ax[0].set_xlabel('Time')\n",
    "ax[0].set_ylabel('Amplitude')\n",
    "ax[1].loglog(frq[1:],abs(Y[1:]),'r') # plotting the spectrum\n",
    "ax[1].set_xlabel('Freq (Hz)')\n",
    "ax[1].set_ylabel('|Y(freq)|')\n"
   ]
  },
  {
   "cell_type": "markdown",
   "metadata": {},
   "source": [
    "# Peak detection"
   ]
  },
  {
   "cell_type": "code",
   "execution_count": 34,
   "metadata": {},
   "outputs": [
    {
     "data": {
      "application/vnd.jupyter.widget-view+json": {
       "model_id": "2a6d9882c7dc4a5684f7b54765550427",
       "version_major": 2,
       "version_minor": 0
      },
      "text/plain": [
       "FigureCanvasNbAgg()"
      ]
     },
     "metadata": {},
     "output_type": "display_data"
    },
    {
     "data": {
      "text/plain": [
       "<matplotlib.collections.PathCollection at 0x7eff8712aeb8>"
      ]
     },
     "execution_count": 34,
     "metadata": {},
     "output_type": "execute_result"
    }
   ],
   "source": [
    "%matplotlib ipympl\n",
    "from matplotlib.pyplot import *\n",
    "from scipy.signal import find_peaks_cwt, find_peaks\n",
    "\n",
    "widths = np.diff(t)\n",
    "peaks = find_peaks(eps)[0]\n",
    "plot(t, eps)\n",
    "scatter(t[peaks], eps[peaks])"
   ]
  },
  {
   "cell_type": "code",
   "execution_count": 37,
   "metadata": {},
   "outputs": [
    {
     "data": {
      "text/plain": [
       "(1.0429323, 1.0429323)"
      ]
     },
     "execution_count": 37,
     "metadata": {},
     "output_type": "execute_result"
    }
   ],
   "source": [
    "eps[-1], eps_filt[-1]"
   ]
  },
  {
   "cell_type": "code",
   "execution_count": 38,
   "metadata": {},
   "outputs": [
    {
     "data": {
      "text/plain": [
       "{'overshoot_percent': 27.94490112157808,\n",
       " 'rise_time': 19.4071,\n",
       " 'settling_time': 110.6395}"
      ]
     },
     "execution_count": 38,
     "metadata": {},
     "output_type": "execute_result"
    }
   ],
   "source": [
    "def step_info(t, yout, thresh_percent=20):\n",
    "    thresh = 1 + thresh_percent / 100\n",
    "    result = dict(\n",
    "        overshoot_percent=(yout.max() / yout[-1] - 1) * 100,\n",
    "        rise_time=(\n",
    "            t[next(i for i in range(0,len(yout)-1)\n",
    "                   if yout[i]>yout[-1]*.90)]\n",
    "            - t[0]\n",
    "        ),\n",
    "        settling_time=(\n",
    "            t[next(len(yout)-i for i in range(2,len(yout)-1)\n",
    "                   if abs(yout[-i]/yout[-1])>thresh)]\n",
    "            - t[0]\n",
    "        ),\n",
    "    )\n",
    "    return result\n",
    "\n",
    "step_info(t, eps_filt)"
   ]
  },
  {
   "cell_type": "code",
   "execution_count": 39,
   "metadata": {},
   "outputs": [
    {
     "data": {
      "text/plain": [
       "True"
      ]
     },
     "execution_count": 39,
     "metadata": {},
     "output_type": "execute_result"
    }
   ],
   "source": [
    "yout = eps\n",
    "thresh_settling = 1.20\n",
    "idx = np.where(np.abs(yout / yout[-1]) > thresh_settling)[0][-1]\n",
    "settling_time = t[idx] - t[0]\n",
    "settling_time == step_info(t, yout)[\"settling_time\"]"
   ]
  }
 ],
 "metadata": {
  "kernelspec": {
   "display_name": "Python 3",
   "language": "python",
   "name": "python3"
  },
  "language_info": {
   "codemirror_mode": {
    "name": "ipython",
    "version": 3
   },
   "file_extension": ".py",
   "mimetype": "text/x-python",
   "name": "python",
   "nbconvert_exporter": "python",
   "pygments_lexer": "ipython3",
   "version": "3.5.3"
  }
 },
 "nbformat": 4,
 "nbformat_minor": 2
}
