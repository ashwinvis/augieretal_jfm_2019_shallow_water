{
 "cells": [
  {
   "cell_type": "code",
   "execution_count": 1,
   "metadata": {},
   "outputs": [],
   "source": [
    "%load_ext autoreload\n",
    "%autoreload 2\n",
    "%aimport base\n",
    "%aimport fluidsim.base.output.increments"
   ]
  },
  {
   "cell_type": "code",
   "execution_count": 2,
   "metadata": {},
   "outputs": [],
   "source": [
    "%%capture\n",
    "%run table.ipynb"
   ]
  },
  {
   "cell_type": "code",
   "execution_count": 3,
   "metadata": {},
   "outputs": [
    {
     "data": {
      "text/html": [
       "<div>\n",
       "<style scoped>\n",
       "    .dataframe tbody tr th:only-of-type {\n",
       "        vertical-align: middle;\n",
       "    }\n",
       "\n",
       "    .dataframe tbody tr th {\n",
       "        vertical-align: top;\n",
       "    }\n",
       "\n",
       "    .dataframe thead th {\n",
       "        text-align: right;\n",
       "    }\n",
       "</style>\n",
       "<table border=\"1\" class=\"dataframe\">\n",
       "  <thead>\n",
       "    <tr style=\"text-align: right;\">\n",
       "      <th></th>\n",
       "      <th>$n$</th>\n",
       "      <th>$c$</th>\n",
       "      <th>$\\nu_8$</th>\n",
       "      <th>$f$</th>\n",
       "      <th>$\\epsilon$</th>\n",
       "      <th>$\\frac{k_{diss}}{k_f}$</th>\n",
       "      <th>$F_f$</th>\n",
       "      <th>$Ro_f$</th>\n",
       "      <th>$Bu$</th>\n",
       "      <th>$\\frac{&lt;\\bf \\Omega_0 &gt;}{{(P k_f^2)}^{2/3}}$</th>\n",
       "      <th>$E$</th>\n",
       "      <th>$t_{stat}$</th>\n",
       "      <th>$t_{\\max}$</th>\n",
       "      <th>short name</th>\n",
       "    </tr>\n",
       "  </thead>\n",
       "  <tbody>\n",
       "    <tr>\n",
       "      <th>W3</th>\n",
       "      <td>3840</td>\n",
       "      <td>10</td>\n",
       "      <td>6e-15</td>\n",
       "      <td>0</td>\n",
       "      <td>1.1</td>\n",
       "      <td>115</td>\n",
       "      <td>0.113</td>\n",
       "      <td>inf</td>\n",
       "      <td>inf</td>\n",
       "      <td>1</td>\n",
       "      <td>3.6</td>\n",
       "      <td>5.22</td>\n",
       "      <td>49.9</td>\n",
       "      <td>noise_c10nh3840Buinf</td>\n",
       "    </tr>\n",
       "    <tr>\n",
       "      <th>W7</th>\n",
       "      <td>3840</td>\n",
       "      <td>20</td>\n",
       "      <td>6.01e-15</td>\n",
       "      <td>0</td>\n",
       "      <td>1.08</td>\n",
       "      <td>115</td>\n",
       "      <td>0.0563</td>\n",
       "      <td>inf</td>\n",
       "      <td>inf</td>\n",
       "      <td>1</td>\n",
       "      <td>4.49</td>\n",
       "      <td>6.92</td>\n",
       "      <td>120</td>\n",
       "      <td>noise_c20nh3840Buinf</td>\n",
       "    </tr>\n",
       "    <tr>\n",
       "      <th>W11</th>\n",
       "      <td>3840</td>\n",
       "      <td>40</td>\n",
       "      <td>6e-15</td>\n",
       "      <td>0</td>\n",
       "      <td>1.06</td>\n",
       "      <td>115</td>\n",
       "      <td>0.028</td>\n",
       "      <td>inf</td>\n",
       "      <td>inf</td>\n",
       "      <td>1</td>\n",
       "      <td>6.07</td>\n",
       "      <td>8.72</td>\n",
       "      <td>49.8</td>\n",
       "      <td>noise_c40nh3840Buinf</td>\n",
       "    </tr>\n",
       "    <tr>\n",
       "      <th>W14</th>\n",
       "      <td>3840</td>\n",
       "      <td>100</td>\n",
       "      <td>6.01e-15</td>\n",
       "      <td>0</td>\n",
       "      <td>1.06</td>\n",
       "      <td>115</td>\n",
       "      <td>0.0112</td>\n",
       "      <td>inf</td>\n",
       "      <td>inf</td>\n",
       "      <td>1</td>\n",
       "      <td>9.41</td>\n",
       "      <td>13.9</td>\n",
       "      <td>120</td>\n",
       "      <td>noise_c100nh3840Buinf</td>\n",
       "    </tr>\n",
       "    <tr>\n",
       "      <th>W18</th>\n",
       "      <td>3840</td>\n",
       "      <td>400</td>\n",
       "      <td>6.01e-15</td>\n",
       "      <td>0</td>\n",
       "      <td>1.12</td>\n",
       "      <td>115</td>\n",
       "      <td>0.00286</td>\n",
       "      <td>inf</td>\n",
       "      <td>inf</td>\n",
       "      <td>1</td>\n",
       "      <td>19.2</td>\n",
       "      <td>25.5</td>\n",
       "      <td>119</td>\n",
       "      <td>noise_c400nh3840Buinf</td>\n",
       "    </tr>\n",
       "  </tbody>\n",
       "</table>\n",
       "</div>"
      ],
      "text/plain": [
       "      $n$  $c$  $\\nu_8$  $f$  $\\epsilon$  $\\frac{k_{diss}}{k_f}$   $F_f$  \\\n",
       "W3   3840   10    6e-15    0         1.1                     115   0.113   \n",
       "W7   3840   20 6.01e-15    0        1.08                     115  0.0563   \n",
       "W11  3840   40    6e-15    0        1.06                     115   0.028   \n",
       "W14  3840  100 6.01e-15    0        1.06                     115  0.0112   \n",
       "W18  3840  400 6.01e-15    0        1.12                     115 0.00286   \n",
       "\n",
       "     $Ro_f$  $Bu$  $\\frac{<\\bf \\Omega_0 >}{{(P k_f^2)}^{2/3}}$  $E$  \\\n",
       "W3      inf   inf                                            1  3.6   \n",
       "W7      inf   inf                                            1 4.49   \n",
       "W11     inf   inf                                            1 6.07   \n",
       "W14     inf   inf                                            1 9.41   \n",
       "W18     inf   inf                                            1 19.2   \n",
       "\n",
       "     $t_{stat}$  $t_{\\max}$             short name  \n",
       "W3         5.22        49.9   noise_c10nh3840Buinf  \n",
       "W7         6.92         120   noise_c20nh3840Buinf  \n",
       "W11        8.72        49.8   noise_c40nh3840Buinf  \n",
       "W14        13.9         120  noise_c100nh3840Buinf  \n",
       "W18        25.5         119  noise_c400nh3840Buinf  "
      ]
     },
     "execution_count": 3,
     "metadata": {},
     "output_type": "execute_result"
    }
   ],
   "source": [
    "%matplotlib inline\n",
    "df = df_w[df_w[\"$n$\"] == 3840]\n",
    "df"
   ]
  },
  {
   "cell_type": "code",
   "execution_count": 4,
   "metadata": {},
   "outputs": [],
   "source": [
    "import fluidsim as fls\n",
    "import numpy as np\n",
    "from base import _k_f, set_figsize, _rxs_str_func, matplotlib_rc, _eps, _k_f\n",
    "from paths import paths_sim, exit_if_figure_exists\n",
    "from fractions import Fraction\n",
    "\n",
    "\n",
    "def froude(sim, t_start):\n",
    "    eps = _eps(sim, t_start)\n",
    "    c = sim.params.c2 ** 0.5\n",
    "    L_f = np.pi / _k_f(sim.params)\n",
    "    F_f = (eps * L_f) ** (1. / 3) / c\n",
    "    return F_f\n",
    "\n",
    "\n",
    "def fig_struct(path, fig, axes, order=[2, 4], tmin=0, tmax=1000, delta_t=0.5, label=\"\", run_nb=0):\n",
    "    sim = fls.load_sim_for_plot(path, merge_missing_params=True)\n",
    "\n",
    "    key_var = [\n",
    "        'ux',\n",
    "        'uy'\n",
    "    ]\n",
    "    rxs, So_var_dict, deltax = _rxs_str_func(\n",
    "        sim, order, tmin, tmax, delta_t, key_var, cache=False)\n",
    "\n",
    "    ones = np.ones(rxs.shape)\n",
    "\n",
    "    L_f = np.pi / _k_f(sim.params)\n",
    "    F_f = froude(sim, tmin)\n",
    "    eps = _eps(sim, tmin)\n",
    "    alpha = 1 \n",
    "    # alpha = Fraction(4, 9)\n",
    "\n",
    "    color_list = ['r', 'b', 'g', 'c', 'm', 'y', 'k']\n",
    "    for i, (o, ax_row) in enumerate(zip(order, axes)):\n",
    "        exp1 = Fraction(o, 3) - 1\n",
    "        exp2 = Fraction(o, 3)\n",
    "        exp0_str, exp1_str, exp2_str = (\"{%s}\" % e for e in (alpha, exp1, exp2))\n",
    "        for j, (key, ax) in enumerate(zip(key_var, ax_row)):\n",
    "            color1 = color_list[run_nb]\n",
    "            ## Old scaling\n",
    "            # norm = 1 ; exp1 = None\n",
    "            ## New scaling\n",
    "            norm = (L_f * F_f**alpha)**exp1 * eps**exp2 ; \n",
    "            ## Alternate scaling\n",
    "            # norm = (L_f * F_f**alpha)**(-1/3) * eps**(o/3) ; exp1 = \"{-1/3}\"\n",
    "\n",
    "            So = So_var_dict['{0}_{1:.0f}'.format(key, o)] / norm / rxs\n",
    "            # So = So_var_dict['{0}_{1:.0f}'.format(key, o)] / norm / rxs**(o-1)  # r^(p-1)\n",
    "            if o % 2 == 0:\n",
    "                ax.loglog(rxs, So, color1, linewidth=2, label=label)\n",
    "            else:\n",
    "                ax.semilogx(rxs, So, color1, linewidth=2, label=label)\n",
    "            ax.set_xlabel(f'$r_x$')\n",
    "\n",
    "            if norm == 1:\n",
    "                ax.set_ylabel(f'$<\\delta {key}>^{o} / r_x$')\n",
    "            else:\n",
    "                ax.set_ylabel(f'$<\\delta {key}>^{o} / (L_f F_f^{exp0_str})^{exp1_str} \\epsilon^{exp2_str} r_x)$')"
   ]
  },
  {
   "cell_type": "markdown",
   "metadata": {},
   "source": [
    "# 5th and 6th order structure functions"
   ]
  },
  {
   "cell_type": "code",
   "execution_count": null,
   "metadata": {},
   "outputs": [
    {
     "data": {
      "text/plain": [
       "<matplotlib.legend.Legend at 0x7f8ec3786668>"
      ]
     },
     "execution_count": 5,
     "metadata": {},
     "output_type": "execute_result"
    }
   ],
   "source": [
    "%%capture --no-display\n",
    "import matplotlib.pyplot as plt\n",
    "\n",
    "fig, axes = plt.subplots(2, 2, dpi=150, figsize=(14,10))\n",
    "for i in range(len(df)):\n",
    "    row = df.iloc[i]\n",
    "    short_name = row[\"short name\"]\n",
    "    path = paths_sim[short_name]\n",
    "    tmin = row[r\"$t_{stat}$\"]\n",
    "    fig_struct(path, fig, axes, order=(5,6),tmin=tmin, label=f\"Run {row.name} {short_name}\", run_nb=i%6)\n",
    "\n",
    "axes[0,0].legend()"
   ]
  },
  {
   "cell_type": "markdown",
   "metadata": {},
   "source": [
    "# 2nd and 4th order structure functions"
   ]
  },
  {
   "cell_type": "code",
   "execution_count": null,
   "metadata": {},
   "outputs": [],
   "source": [
    "%%capture --no-display\n",
    "import matplotlib.pyplot as plt\n",
    "\n",
    "fig, axes = plt.subplots(2, 2, dpi=150, figsize=(14,10))\n",
    "for i in range(len(df)):\n",
    "    row = df.iloc[i]\n",
    "    short_name = row[\"short name\"]\n",
    "    path = paths_sim[short_name]\n",
    "    tmin = row[r\"$t_{stat}$\"]\n",
    "    fig_struct(path, fig, axes, tmin=tmin, label=f\"Run {row.name} {short_name}\", run_nb=i%6)\n",
    "\n",
    "axes[0,0].legend()"
   ]
  },
  {
   "cell_type": "markdown",
   "metadata": {},
   "source": [
    "# Performance"
   ]
  },
  {
   "cell_type": "code",
   "execution_count": 10,
   "metadata": {},
   "outputs": [
    {
     "data": {
      "text/plain": [
       "'/media/avmo/lacie/13KTH/noise/SW1Lwaves_NOISE2_c=10_L=50.x50._1920x1920_2017-01-06_17-32-32'"
      ]
     },
     "execution_count": 10,
     "metadata": {},
     "output_type": "execute_result"
    }
   ],
   "source": [
    "test_path = paths_sim[df.iloc[0][\"short name\"]]\n",
    "test_path"
   ]
  },
  {
   "cell_type": "code",
   "execution_count": 11,
   "metadata": {},
   "outputs": [
    {
     "name": "stdout",
     "output_type": "stream",
     "text": [
      "The line_profiler extension is already loaded. To reload it, use:\n",
      "  %reload_ext line_profiler\n"
     ]
    }
   ],
   "source": [
    "%load_ext line_profiler"
   ]
  },
  {
   "cell_type": "code",
   "execution_count": 12,
   "metadata": {},
   "outputs": [],
   "source": [
    "%%capture\n",
    "import fluidsim as fls\n",
    "from base import _rxs_str_func\n",
    "\n",
    "sim = fls.load_sim_for_plot(test_path, merge_missing_params=True)"
   ]
  },
  {
   "cell_type": "code",
   "execution_count": 16,
   "metadata": {},
   "outputs": [
    {
     "name": "stdout",
     "output_type": "stream",
     "text": [
      "plot(tmin=0, tmax=100, delta_t=0.50)\n",
      "plot structure functions\n",
      "tmin =        0 ; tmax =  49.6035 ; delta_t = 0.501045\n",
      "imin =        0 ; imax =       99 ; delta_i =        1\n",
      " "
     ]
    },
    {
     "data": {
      "text/plain": [
       "         724205 function calls in 4.035 seconds\n",
       "\n",
       "   Ordered by: internal time\n",
       "\n",
       "   ncalls  tottime  percall  cumtime  percall filename:lineno(function)\n",
       "        1    1.205    1.205    3.979    3.979 increments.py:342(load_pdf_from_file)\n",
       "    96960    1.107    0.000    1.107    0.000 increments.py:120(compute_values_inc)\n",
       "    96000    0.703    0.000    0.703    0.000 {built-in method numpy.core.multiarray.interp}\n",
       "      504    0.306    0.001    0.417    0.001 dataset.py:399(__getitem__)\n",
       "    96000    0.183    0.000    1.145    0.000 function_base.py:1179(interp)\n",
       "    96000    0.101    0.000    0.133    0.000 type_check.py:250(iscomplexobj)\n",
       "    96003    0.082    0.000    0.082    0.000 {built-in method numpy.core.multiarray.array}\n",
       "      506    0.058    0.000    0.104    0.000 group.py:168(__getitem__)\n",
       "        1    0.053    0.053    0.053    0.053 {built-in method fluidsim.base.output.util_pythran.strfunc_from_pdf}\n",
       "    96000    0.045    0.000    0.127    0.000 numeric.py:433(asarray)\n",
       "      504    0.036    0.000    0.041    0.000 dataset.py:317(__init__)\n",
       "     2516    0.032    0.000    0.033    0.000 dataset.py:221(shape)\n",
       "    96002    0.031    0.000    0.031    0.000 {built-in method builtins.issubclass}\n",
       "      505    0.014    0.000    0.014    0.000 {method 'reduce' of 'numpy.ufunc' objects}\n",
       "      504    0.008    0.000    0.018    0.000 selections.py:429(_handle_simple)\n",
       "      504    0.007    0.000    0.008    0.000 selections.py:406(_expand_ellipsis)\n",
       "      508    0.006    0.000    0.006    0.000 base.py:80(is_empty_dataspace)\n",
       "      504    0.005    0.000    0.024    0.000 selections.py:250(__getitem__)\n",
       "      504    0.005    0.000    0.005    0.000 selections.py:147(__init__)\n",
       "      508    0.005    0.000    0.005    0.000 dataset.py:37(readtime_dtype)\n",
       "      508    0.004    0.000    0.004    0.000 {built-in method h5py.h5t.py_create}\n",
       "      504    0.004    0.000    0.037    0.000 selections.py:27(select)\n",
       "      504    0.003    0.000    0.003    0.000 filters.py:209(get_filters)\n",
       "      504    0.003    0.000    0.019    0.000 fromnumeric.py:64(_wrapreduction)\n",
       "     8082    0.003    0.000    0.003    0.000 {built-in method builtins.isinstance}\n",
       "      504    0.002    0.000    0.008    0.000 selections.py:244(__init__)\n",
       "     1012    0.001    0.000    0.001    0.000 {built-in method builtins.getattr}\n",
       "     7053    0.001    0.000    0.001    0.000 {built-in method builtins.len}\n",
       "     5555    0.001    0.000    0.001    0.000 base.py:236(id)\n",
       "      510    0.001    0.000    0.002    0.000 base.py:109(_e)\n",
       "      504    0.001    0.000    0.020    0.000 fromnumeric.py:2478(prod)\n",
       "      530    0.001    0.000    0.002    0.000 <frozen importlib._bootstrap>:416(parent)\n",
       "      504    0.001    0.000    0.001    0.000 selections.py:168(nselect)\n",
       "      512    0.001    0.000    0.001    0.000 {method 'encode' of 'str' objects}\n",
       "      504    0.001    0.000    0.001    0.000 selections.py:475(_translate_slice)\n",
       "      504    0.001    0.000    0.021    0.000 fromnumeric.py:3163(product)\n",
       "      530    0.001    0.000    0.001    0.000 {method 'rpartition' of 'str' objects}\n",
       "        4    0.001    0.000    0.001    0.000 {built-in method numpy.core.multiarray.zeros}\n",
       "      100    0.001    0.000    0.001    0.000 {method 'reshape' of 'numpy.ndarray' objects}\n",
       "      508    0.001    0.000    0.001    0.000 base.py:269(__init__)\n",
       "        1    0.001    0.001    0.001    0.001 {built-in method numpy.core.multiarray.arange}\n",
       "      504    0.001    0.000    0.001    0.000 {built-in method builtins.sum}\n",
       "      504    0.001    0.000    0.001    0.000 dataset.py:418(<genexpr>)\n",
       "     4516    0.001    0.000    0.001    0.000 {method 'append' of 'list' objects}\n",
       "     1008    0.000    0.000    0.001    0.000 dataset.py:419(<genexpr>)\n",
       "     2520    0.000    0.000    0.000    0.000 selections.py:163(shape)\n",
       "     1008    0.000    0.000    0.000    0.000 selections.py:267(<genexpr>)\n",
       "      504    0.000    0.000    0.000    0.000 {method 'indices' of 'slice' objects}\n",
       "      500    0.000    0.000    0.000    0.000 selections.py:462(_translate_int)\n",
       "        4    0.000    0.000    0.000    0.000 attrs.py:56(__getitem__)\n",
       "      508    0.000    0.000    0.000    0.000 selections.py:409(<genexpr>)\n",
       "        1    0.000    0.000    4.035    4.035 base.py:245(_rxs_str_func)\n",
       "      504    0.000    0.000    0.000    0.000 {method 'items' of 'dict' objects}\n",
       "     1008    0.000    0.000    0.000    0.000 selections.py:239(mshape)\n",
       "      504    0.000    0.000    0.000    0.000 selections.py:158(id)\n",
       "        1    0.000    0.000    0.000    0.000 files.py:321(close)\n",
       "      506    0.000    0.000    0.000    0.000 base.py:97(_lapl)\n",
       "      504    0.000    0.000    0.000    0.000 {method 'extend' of 'list' objects}\n",
       "        2    0.000    0.000    0.000    0.000 files.py:89(make_fapl)\n",
       "        2    0.000    0.000    0.000    0.000 files.py:122(make_fid)\n",
       "        1    0.000    0.000    4.035    4.035 <string>:2(<module>)\n",
       "        1    0.000    0.000    4.035    4.035 {built-in method builtins.exec}\n",
       "        5    0.000    0.000    0.000    0.000 socket.py:334(send)\n",
       "        1    0.000    0.000    0.000    0.000 files.py:334(<listcomp>)\n",
       "        3    0.000    0.000    0.000    0.000 {method 'format' of 'str' objects}\n",
       "        2    0.000    0.000    0.000    0.000 files.py:273(__init__)\n",
       "        5    0.000    0.000    0.000    0.000 iostream.py:195(schedule)\n",
       "        4    0.000    0.000    0.000    0.000 base.py:262(attrs)\n",
       "        1    0.000    0.000    0.000    0.000 files.py:333(<listcomp>)\n",
       "        1    0.000    0.000    0.000    0.000 files.py:357(__exit__)\n",
       "        4    0.000    0.000    0.000    0.000 {method 'argmin' of 'numpy.ndarray' objects}\n",
       "        4    0.000    0.000    0.000    0.000 iostream.py:382(write)\n",
       "        4    0.000    0.000    0.000    0.000 group.py:34(__init__)\n",
       "        1    0.000    0.000    0.000    0.000 _methods.py:58(_mean)\n",
       "        1    0.000    0.000    0.053    0.053 increments.py:324(strfunc_from_pdf)\n",
       "        4    0.000    0.000    0.000    0.000 <frozen importlib._bootstrap>:997(_handle_fromlist)\n",
       "        4    0.000    0.000    0.000    0.000 attrs.py:51(__init__)\n",
       "        4    0.000    0.000    0.000    0.000 fromnumeric.py:49(_wrapfunc)\n",
       "        2    0.000    0.000    0.000    0.000 {built-in method builtins.print}\n",
       "        1    0.000    0.000    0.000    0.000 {built-in method builtins.round}\n",
       "        2    0.000    0.000    0.000    0.000 compat.py:103(filename_encode)\n",
       "        1    0.000    0.000    0.000    0.000 _methods.py:48(_count_reduce_items)\n",
       "        4    0.000    0.000    0.000    0.000 {built-in method builtins.abs}\n",
       "        4    0.000    0.000    0.000    0.000 fromnumeric.py:1040(argmin)\n",
       "        5    0.000    0.000    0.000    0.000 {method 'acquire' of '_thread.lock' objects}\n",
       "        1    0.000    0.000    0.000    0.000 fromnumeric.py:2817(mean)\n",
       "        5    0.000    0.000    0.000    0.000 threading.py:1104(is_alive)\n",
       "        2    0.000    0.000    0.000    0.000 os.py:794(fsencode)\n",
       "        5    0.000    0.000    0.000    0.000 iostream.py:93(_event_pipe)\n",
       "        4    0.000    0.000    0.000    0.000 iostream.py:307(_is_master_process)\n",
       "        5    0.000    0.000    0.000    0.000 threading.py:1062(_wait_for_tstate_lock)\n",
       "        4    0.000    0.000    0.000    0.000 {built-in method posix.getpid}\n",
       "        4    0.000    0.000    0.000    0.000 iostream.py:320(_schedule_flush)\n",
       "        9    0.000    0.000    0.000    0.000 {built-in method builtins.hasattr}\n",
       "        5    0.000    0.000    0.000    0.000 threading.py:506(is_set)\n",
       "        1    0.000    0.000    0.000    0.000 {method 'disable' of '_lsprof.Profiler' objects}\n",
       "        4    0.000    0.000    0.000    0.000 {built-in method posix.fspath}\n",
       "        1    0.000    0.000    0.000    0.000 files.py:353(__enter__)\n",
       "        1    0.000    0.000    0.000    0.000 numeric.py:504(asanyarray)\n",
       "        1    0.000    0.000    0.000    0.000 {method 'keys' of 'dict' objects}\n",
       "        5    0.000    0.000    0.000    0.000 {method 'append' of 'collections.deque' objects}"
      ]
     },
     "metadata": {},
     "output_type": "display_data"
    }
   ],
   "source": [
    "%%prun\n",
    "_rxs_str_func(sim, [2], 0, 100, 0.5, [\"ux\"], cache=False)"
   ]
  },
  {
   "cell_type": "code",
   "execution_count": null,
   "metadata": {},
   "outputs": [],
   "source": []
  },
  {
   "cell_type": "code",
   "execution_count": null,
   "metadata": {},
   "outputs": [],
   "source": [
    "%%prun\n",
    "sim.output.increments.load_pdf_from_file(0, 100, \"ux\")"
   ]
  }
 ],
 "metadata": {
  "kernelspec": {
   "display_name": "Python 3",
   "language": "python",
   "name": "python3"
  },
  "language_info": {
   "codemirror_mode": {
    "name": "ipython",
    "version": 3
   },
   "file_extension": ".py",
   "mimetype": "text/x-python",
   "name": "python",
   "nbconvert_exporter": "python",
   "pygments_lexer": "ipython3",
   "version": "3.6.6"
  }
 },
 "nbformat": 4,
 "nbformat_minor": 2
}
