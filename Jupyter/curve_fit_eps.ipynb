{
 "cells": [
  {
   "cell_type": "markdown",
   "metadata": {},
   "source": [
    "# Curve-fit to estimate final dissipation"
   ]
  },
  {
   "cell_type": "code",
   "execution_count": 3,
   "metadata": {},
   "outputs": [],
   "source": [
    "%%capture\n",
    "%run table.ipynb"
   ]
  },
  {
   "cell_type": "code",
   "execution_count": 4,
   "metadata": {},
   "outputs": [
    {
     "name": "stdout",
     "output_type": "stream",
     "text": [
      "43.481953290870486 0.7539822368615504 1.066291905158008 107.2330292425316\n"
     ]
    }
   ],
   "source": [
    "path = paths_sim[\"noise_c20nh1920Bu0.5\"]\n",
    "params = ParamContainer(path_file=path+'/params_simul.xml')\n",
    "print(_k_diss(params), _k_f(params), _k_d(params), _k_max(params))"
   ]
  },
  {
   "cell_type": "code",
   "execution_count": 5,
   "metadata": {},
   "outputs": [
    {
     "data": {
      "text/plain": [
       "1.9625000000000001"
      ]
     },
     "execution_count": 5,
     "metadata": {},
     "output_type": "execute_result"
    }
   ],
   "source": [
    "params.preprocess.viscosity_const * 2.5"
   ]
  },
  {
   "cell_type": "code",
   "execution_count": 6,
   "metadata": {},
   "outputs": [],
   "source": [
    "%matplotlib ipympl\n",
    "def get_teps(short_name):\n",
    "    path = paths_sim[short_name]\n",
    "    d = SpatialMeansSW1L._load(path)\n",
    "    t = d['t']\n",
    "    eps = d['epsK'] + d ['epsA']\n",
    "    \n",
    "    idx = _index_where(eps, eps.max())\n",
    "    \n",
    "    return t, eps, idx\n",
    "\n",
    "def plot_eps(short_name):\n",
    "    t, eps,idx = get_teps(short_name)\n",
    "    plt.plot(t, eps, label=short_name)\n",
    "    plt.text(t[idx], eps[idx], short_name)\n",
    "    # plt.legend()\n",
    "    \n",
    "## Some extreme cases\n",
    "#plot_eps('noise_c400nh7680Buinf')\n",
    "#plot_eps('vortex_grid_c100nh1920Bu2.0efr1.00e+00')\n",
    "#plot_eps('noise_c20nh7680Buinf')\n",
    "#plot_eps('vortex_grid_c100nh1920Bu1.0efr1.00e+00')\n",
    "#plot_eps('noise_c40nh7680Buinf')\n",
    "#plot_eps('vortex_grid_c100nh1920Buinfefr1.00e+02')\n",
    "\n",
    "## Lognorm like\n",
    "# plot_eps('vortex_grid_c20nh1920Buinfefr1.00e+01')\n",
    "# plot_eps('vortex_grid_c100nh1920Buinfefr1.00e+02')\n",
    "# plot_eps('vortex_grid_c100nh1920Bu4.0efr1.00e+02')\n",
    "# plot_eps('vortex_grid_c400nh1920Buinfefr1.00e+02')\n",
    "\n",
    "#for short in df_vort['short name']:\n",
    "#    plot_eps(short)\n",
    "\n",
    "# plot_eps('noise_c400nh3840Buinf')"
   ]
  },
  {
   "cell_type": "code",
   "execution_count": 7,
   "metadata": {},
   "outputs": [
    {
     "name": "stdout",
     "output_type": "stream",
     "text": [
      "Using matplotlib backend: module://ipympl.backend_nbagg\n"
     ]
    },
    {
     "name": "stderr",
     "output_type": "stream",
     "text": [
      "/scratch/avmo/opt/fluidmeta/lib/python3.6/site-packages/matplotlib/__init__.py:942: MatplotlibDeprecationWarning: nbagg.transparent is deprecated and ignored. Use figure.facecolor instead.\n",
      "  mplDeprecation)\n"
     ]
    },
    {
     "data": {
      "application/vnd.jupyter.widget-view+json": {
       "model_id": "",
       "version_major": 2,
       "version_minor": 0
      },
      "text/html": [
       "<p>Failed to display Jupyter Widget of type <code>FigureCanvasNbAgg</code>.</p>\n",
       "<p>\n",
       "  If you're reading this message in the Jupyter Notebook or JupyterLab Notebook, it may mean\n",
       "  that the widgets JavaScript is still loading. If this message persists, it\n",
       "  likely means that the widgets JavaScript library is either not installed or\n",
       "  not enabled. See the <a href=\"https://ipywidgets.readthedocs.io/en/stable/user_install.html\">Jupyter\n",
       "  Widgets Documentation</a> for setup instructions.\n",
       "</p>\n",
       "<p>\n",
       "  If you're reading this message in another frontend (for example, a static\n",
       "  rendering on GitHub or <a href=\"https://nbviewer.jupyter.org/\">NBViewer</a>),\n",
       "  it may mean that your frontend doesn't currently support widgets.\n",
       "</p>\n"
      ],
      "text/plain": [
       "FigureCanvasNbAgg()"
      ]
     },
     "metadata": {},
     "output_type": "display_data"
    }
   ],
   "source": [
    "%matplotlib\n",
    "t, eps, idx = get_teps(\"noise_c400nh3840Buinf\")\n",
    "plt.plot(t, np.tanh(t/10))\n",
    "plt.plot(t, np.tanh((t/10)**4))\n",
    "plt.show()"
   ]
  },
  {
   "cell_type": "markdown",
   "metadata": {},
   "source": [
    "Working version:"
   ]
  },
  {
   "cell_type": "code",
   "execution_count": 10,
   "metadata": {},
   "outputs": [
    {
     "name": "stderr",
     "output_type": "stream",
     "text": [
      "/scratch/avmo/opt/fluidmeta/lib/python3.6/site-packages/matplotlib/__init__.py:942: MatplotlibDeprecationWarning: nbagg.transparent is deprecated and ignored. Use figure.facecolor instead.\n",
      "  mplDeprecation)\n"
     ]
    },
    {
     "data": {
      "application/vnd.jupyter.widget-view+json": {
       "model_id": "c830ff00ee3c43f490e67b37d4b8eaa7",
       "version_major": 2,
       "version_minor": 0
      },
      "text/html": [
       "<p>Failed to display Jupyter Widget of type <code>FigureCanvasNbAgg</code>.</p>\n",
       "<p>\n",
       "  If you're reading this message in the Jupyter Notebook or JupyterLab Notebook, it may mean\n",
       "  that the widgets JavaScript is still loading. If this message persists, it\n",
       "  likely means that the widgets JavaScript library is either not installed or\n",
       "  not enabled. See the <a href=\"https://ipywidgets.readthedocs.io/en/stable/user_install.html\">Jupyter\n",
       "  Widgets Documentation</a> for setup instructions.\n",
       "</p>\n",
       "<p>\n",
       "  If you're reading this message in another frontend (for example, a static\n",
       "  rendering on GitHub or <a href=\"https://nbviewer.jupyter.org/\">NBViewer</a>),\n",
       "  it may mean that your frontend doesn't currently support widgets.\n",
       "</p>\n"
      ],
      "text/plain": [
       "FigureCanvasNbAgg()"
      ]
     },
     "metadata": {},
     "output_type": "display_data"
    },
    {
     "data": {
      "text/plain": [
       "<matplotlib.legend.Legend at 0x7ff0c5cc8ac8>"
      ]
     },
     "execution_count": 10,
     "metadata": {},
     "output_type": "execute_result"
    }
   ],
   "source": [
    "%matplotlib ipympl\n",
    "from scipy.optimize import curve_fit\n",
    "from scipy import stats\n",
    "\n",
    "def f(x, amptan, ttan, amplog, sigma):\n",
    "    return  amptan * np.tanh(2 * (x/ttan)**4) + amplog * stats.lognorm.pdf(x, scale=np.exp(ttan), s=sigma) \n",
    "    # return (c + d/(np.sinh(x+t))**2) * np.tanh(2 * (x/t)**4)\n",
    "    # return (c + d/(x+t)**2)* np.tanh(2 * (x/t)**4)\n",
    "    \n",
    "short = 'vortex_grid_c100nh1920Buinfefr1.00e+02'\n",
    "short = 'vortex_grid_c20nh1920Buinfefr1.00e+01'\n",
    "short = 'vortex_grid_c400nh1920Buinfefr1.00e+02'\n",
    "# short = 'noise_c20nh7680Buinf'\n",
    "# short = 'vortex_grid_c20nh960Buinfefr1.00e+00'\n",
    "t, eps,_ = get_teps(short)\n",
    "\n",
    "guesses = {\n",
    "    'amptan': np.median(eps),\n",
    "    'ttan': t[eps==eps.max()],\n",
    "    'amplog': eps.max(),\n",
    "    'sigma': eps.std()\n",
    "}\n",
    "guesses = np.array(list(guesses.values()))\n",
    "bounds = (0, guesses * 1.5)\n",
    "\n",
    "# popt, pcov = curve_fit(f, t, eps)\n",
    "# popt, pcov = curve_fit(f, t, eps, sigma=1./t)\n",
    "popt, pcov = curve_fit(f, t, eps, guesses)\n",
    "\n",
    "# popt, pcov = curve_fit(f, t, eps, guesses, bounds=bounds, method=\"trf\")\n",
    "\n",
    "plot(t, eps, label='original')\n",
    "plot(t, f(t, *popt), label='curve fit')\n",
    "plot(t, np.median(eps) * np.ones_like(eps), 'g', label='median_all')\n",
    "\n",
    "plot(t, np.median(eps[t>40]) * np.ones_like(eps), 'r:', label='median')\n",
    "plot(t, np.mean(eps[t>40]) * np.ones_like(eps), 'r--', label='mean')\n",
    "\n",
    "df = df_vort if  'vortex' in short else df_noise\n",
    "# eps_chosen = get_row(df, 'short name', short)['$\\epsilon$'].iloc[0]\n",
    "\n",
    "# plot(t, eps_chosen * np.ones_like(eps), 'k', label='chosen')\n",
    "# plot(t, popt[2] * stats.lognorm.pdf(t, *popt[-2:]), label='lognorm')\n",
    "legend()"
   ]
  },
  {
   "cell_type": "code",
   "execution_count": null,
   "metadata": {},
   "outputs": [],
   "source": []
  }
 ],
 "metadata": {
  "kernelspec": {
   "display_name": "Python 3",
   "language": "python",
   "name": "python3"
  },
  "language_info": {
   "codemirror_mode": {
    "name": "ipython",
    "version": 3
   },
   "file_extension": ".py",
   "mimetype": "text/x-python",
   "name": "python",
   "nbconvert_exporter": "python",
   "pygments_lexer": "ipython3",
   "version": "3.6.5"
  }
 },
 "nbformat": 4,
 "nbformat_minor": 2
}
